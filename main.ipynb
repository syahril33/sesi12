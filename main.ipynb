{
 "cells": [
  {
   "cell_type": "code",
   "execution_count": null,
   "id": "d1ca8203-7c33-4aca-bd12-c51e620ff424",
   "metadata": {},
   "outputs": [
    {
     "name": "stdout",
     "output_type": "stream",
     "text": [
      "\n",
      "====Menu Utama====\n",
      "1. Aritmatika\n",
      "2. Konversi\n",
      "3. Ubah Bilangan\n",
      "4. Keluar\n"
     ]
    },
    {
     "name": "stdin",
     "output_type": "stream",
     "text": [
      "Pilih menu (1-4):  2\n"
     ]
    },
    {
     "name": "stdout",
     "output_type": "stream",
     "text": [
      "\n",
      "====Menu Konversi====\n",
      "1. CM to M\n",
      "2. M to CM\n"
     ]
    },
    {
     "name": "stdin",
     "output_type": "stream",
     "text": [
      "Pilih konversi (1-2):  1\n",
      "Masukkan nilai:  100\n"
     ]
    },
    {
     "name": "stdout",
     "output_type": "stream",
     "text": [
      "100 cm = 1.0 m\n",
      "\n",
      "====Menu Utama====\n",
      "1. Aritmatika\n",
      "2. Konversi\n",
      "3. Ubah Bilangan\n",
      "4. Keluar\n"
     ]
    },
    {
     "name": "stdin",
     "output_type": "stream",
     "text": [
      "Pilih menu (1-4):  1\n"
     ]
    },
    {
     "name": "stdout",
     "output_type": "stream",
     "text": [
      "\n",
      "====Menu Aritmatika====\n",
      "1. Penjumlahan\n",
      "2. Perpangkatan\n",
      "3. Perkalian\n"
     ]
    },
    {
     "name": "stdin",
     "output_type": "stream",
     "text": [
      "Pilih operasi (1-3):  1\n",
      "Masukkan bilangan pertama:  2\n",
      "Masukkan bilangan kedua:  1\n"
     ]
    },
    {
     "name": "stdout",
     "output_type": "stream",
     "text": [
      "Hasil penjumlahan: 3\n",
      "\n",
      "====Menu Utama====\n",
      "1. Aritmatika\n",
      "2. Konversi\n",
      "3. Ubah Bilangan\n",
      "4. Keluar\n"
     ]
    },
    {
     "name": "stdin",
     "output_type": "stream",
     "text": [
      "Pilih menu (1-4):  3\n"
     ]
    },
    {
     "name": "stdout",
     "output_type": "stream",
     "text": [
      "\n",
      "====Menu Ubah Bilangan====\n",
      "1. Desimal to Biner\n",
      "2. Desimal to Oktal\n",
      "3. Desimal to Hexadesimal\n"
     ]
    },
    {
     "name": "stdin",
     "output_type": "stream",
     "text": [
      "Pilih konversi (1-3):  3\n",
      "Masukkan bilangan desimal:  2\n"
     ]
    },
    {
     "name": "stdout",
     "output_type": "stream",
     "text": [
      "2 dalam hexadesimal: 0x2\n",
      "\n",
      "====Menu Utama====\n",
      "1. Aritmatika\n",
      "2. Konversi\n",
      "3. Ubah Bilangan\n",
      "4. Keluar\n"
     ]
    },
    {
     "name": "stdin",
     "output_type": "stream",
     "text": [
      "Pilih menu (1-4):  1\n"
     ]
    },
    {
     "name": "stdout",
     "output_type": "stream",
     "text": [
      "\n",
      "====Menu Aritmatika====\n",
      "1. Penjumlahan\n",
      "2. Perpangkatan\n",
      "3. Perkalian\n"
     ]
    },
    {
     "name": "stdin",
     "output_type": "stream",
     "text": [
      "Pilih operasi (1-3):  2\n",
      "Masukkan bilangan pertama:  3\n",
      "Masukkan bilangan kedua:  2\n"
     ]
    },
    {
     "name": "stdout",
     "output_type": "stream",
     "text": [
      "Hasil perpangkatan: 9\n",
      "\n",
      "====Menu Utama====\n",
      "1. Aritmatika\n",
      "2. Konversi\n",
      "3. Ubah Bilangan\n",
      "4. Keluar\n"
     ]
    }
   ],
   "source": [
    "# import aritmatika as ar\n",
    "import konversi as kv\n",
    "import ubahBilangan as ub\n",
    "\n",
    "def menu_aritmatika():\n",
    "    print(\"\\n====Menu Aritmatika====\")\n",
    "    print(\"1. Penjumlahan\")\n",
    "    print(\"2. Perpangkatan\")\n",
    "    print(\"3. Perkalian\")\n",
    "    pilihan = input(\"Pilih operasi (1-3): \")\n",
    "    \n",
    "    a = int(input(\"Masukkan bilangan pertama: \"))\n",
    "    b = int(input(\"Masukkan bilangan kedua: \"))\n",
    "    \n",
    "    if pilihan == \"1\":\n",
    "        hasil = ar.penjumlahan(a, b)\n",
    "        print(f\"Hasil penjumlahan: {hasil}\")\n",
    "    elif pilihan == \"2\":\n",
    "        hasil = ar.perpangkatan(a, b)\n",
    "        print(f\"Hasil perpangkatan: {hasil}\")\n",
    "    elif pilihan == \"3\":\n",
    "        hasil = ar.perkalian(a, b)\n",
    "        print(f\"Hasil perkalian: {hasil}\")\n",
    "    else:\n",
    "        print(\"Pilihan tidak valid.\")\n",
    "\n",
    "def menu_konversi():\n",
    "    print(\"\\n====Menu Konversi====\")\n",
    "    print(\"1. CM to M\")\n",
    "    print(\"2. M to CM\")\n",
    "    pilihan = input(\"Pilih konversi (1-2): \")\n",
    "    \n",
    "    nilai = int(input(\"Masukkan nilai: \"))\n",
    "    \n",
    "    if pilihan == \"1\":\n",
    "        hasil = kv.cmToMeter(nilai)\n",
    "        print(f\"{nilai} cm = {hasil} m\")\n",
    "    elif pilihan == \"2\":\n",
    "        hasil = kv.meterToCm(nilai)\n",
    "        print(f\"{nilai} m = {hasil} cm\")\n",
    "    else:\n",
    "        print(\"Pilihan tidak valid.\")\n",
    "\n",
    "def menu_ubah_bilangan():\n",
    "    print(\"\\n====Menu Ubah Bilangan====\")\n",
    "    print(\"1. Desimal to Biner\")\n",
    "    print(\"2. Desimal to Oktal\")\n",
    "    print(\"3. Desimal to Hexadesimal\")\n",
    "    pilihan = input(\"Pilih konversi (1-3): \")\n",
    "    \n",
    "    angka = int(input(\"Masukkan bilangan desimal: \"))\n",
    "    \n",
    "    if pilihan == \"1\":\n",
    "        hasil = ub.desimalToBiner(angka)\n",
    "        print(f\"{angka} dalam biner: {hasil}\")\n",
    "    elif pilihan == \"2\":\n",
    "        hasil = ub.desimalToOktal(angka)\n",
    "        print(f\"{angka} dalam oktal: {hasil}\")\n",
    "    elif pilihan == \"3\":\n",
    "        hasil = ub.desimalToHexadesimal(angka)\n",
    "        print(f\"{angka} dalam hexadesimal: {hasil}\")\n",
    "    else:\n",
    "        print(\"Pilihan tidak valid.\")\n",
    "\n",
    "while True:\n",
    "        print(\"\\n====Menu Utama====\")\n",
    "        print(\"1. Aritmatika\")\n",
    "        print(\"2. Konversi\")\n",
    "        print(\"3. Ubah Bilangan\")\n",
    "        print(\"4. Keluar\")\n",
    "        pilihan = input(\"Pilih menu (1-4): \")\n",
    "\n",
    "        if pilihan == \"1\":\n",
    "            menu_aritmatika()\n",
    "        elif pilihan == \"2\":\n",
    "            menu_konversi()\n",
    "        elif pilihan == \"3\":\n",
    "            menu_ubah_bilangan()\n",
    "        elif pilihan == \"4\":\n",
    "            print(\"Terima kasih telah menggunakan program ini.\")\n",
    "            break\n",
    "        else:\n",
    "            print(\"Pilihan tidak valid.\")\n"
   ]
  },
  {
   "cell_type": "code",
   "execution_count": null,
   "id": "fb398e3e-fc27-401d-b2a1-819d10261ae0",
   "metadata": {},
   "outputs": [],
   "source": []
  }
 ],
 "metadata": {
  "kernelspec": {
   "display_name": "Python [conda env:base] *",
   "language": "python",
   "name": "conda-base-py"
  },
  "language_info": {
   "codemirror_mode": {
    "name": "ipython",
    "version": 3
   },
   "file_extension": ".py",
   "mimetype": "text/x-python",
   "name": "python",
   "nbconvert_exporter": "python",
   "pygments_lexer": "ipython3",
   "version": "3.12.7"
  }
 },
 "nbformat": 4,
 "nbformat_minor": 5
}
